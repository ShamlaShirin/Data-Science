{
 "cells": [
  {
   "cell_type": "code",
   "execution_count": 4,
   "id": "cbf86115",
   "metadata": {},
   "outputs": [
    {
     "name": "stdout",
     "output_type": "stream",
     "text": [
      "Largest number is: 85\n"
     ]
    }
   ],
   "source": [
    "#largest no. from a list\n",
    "list=[11,25,33,45,85,60]\n",
    "list.sort()\n",
    "print(\"Largest number is:\",list[-1])"
   ]
  },
  {
   "cell_type": "code",
   "execution_count": 21,
   "id": "e0253901",
   "metadata": {},
   "outputs": [
    {
     "name": "stdout",
     "output_type": "stream",
     "text": [
      "[1, 2, 3, 2, 4, 2, 6, 4, 8]\n",
      "[1, 2, 3, 4, 6, 8]\n"
     ]
    }
   ],
   "source": [
    "#to remove duplicates from a list\n",
    "list=[1,2,3,2,4,2,6,4,8]\n",
    "print(list)\n",
    "res=[]\n",
    "for i in list:\n",
    "    if i not in res:\n",
    "        res.append(i)\n",
    "print(res)\n",
    "        "
   ]
  },
  {
   "cell_type": "code",
   "execution_count": 29,
   "id": "2e82973c",
   "metadata": {},
   "outputs": [
    {
     "name": "stdout",
     "output_type": "stream",
     "text": [
      "{1: 'a', 2: 'b', 3: 'c', 4: 'd'}\n"
     ]
    }
   ],
   "source": [
    "#merge two dictionaries\n",
    "dict_1 = {1: 'a', 2: 'b'}\n",
    "dict_2 = {3: 'c', 4: 'd'}\n",
    "print(dict_1 | dict_2)"
   ]
  },
  {
   "cell_type": "code",
   "execution_count": 27,
   "id": "4a0f716a",
   "metadata": {},
   "outputs": [
    {
     "name": "stdout",
     "output_type": "stream",
     "text": [
      "True\n",
      "Lists have at least one common member\n"
     ]
    }
   ],
   "source": [
    "#atleast one common member\n",
    "list1=[1,2,3,4,5]\n",
    "list2=[3,6,7,8,9]\n",
    "result = False\n",
    "for x in list1:\n",
    "    for y in list2:\n",
    "        if x == y:\n",
    "            result = True\n",
    "            print(result)\n",
    "if result:\n",
    "    print(\"Lists have at least one common member\")\n",
    "else:\n",
    "    print(\"Lists do not have any common member\")\n"
   ]
  }
 ],
 "metadata": {
  "kernelspec": {
   "display_name": "Python 3 (ipykernel)",
   "language": "python",
   "name": "python3"
  },
  "language_info": {
   "codemirror_mode": {
    "name": "ipython",
    "version": 3
   },
   "file_extension": ".py",
   "mimetype": "text/x-python",
   "name": "python",
   "nbconvert_exporter": "python",
   "pygments_lexer": "ipython3",
   "version": "3.10.12"
  }
 },
 "nbformat": 4,
 "nbformat_minor": 5
}
