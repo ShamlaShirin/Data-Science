{
 "cells": [
  {
   "cell_type": "code",
   "execution_count": null,
   "id": "6476bd8c",
   "metadata": {},
   "outputs": [
    {
     "name": "stdout",
     "output_type": "stream",
     "text": [
      "1.Add\n",
      "2.Substract\n",
      "3.Multiplication\n",
      "4.Division\n",
      "5.Exit\n"
     ]
    }
   ],
   "source": [
    "#Arithmetic Operation\n",
    "a=10\n",
    "b=6\n",
    "while(1):\n",
    "    print(\"1.Add\\n2.Substract\\n3.Multiplication\\n4.Division\\n5.Exit\")\n",
    "    ch=int(input(\"Enter your choice:\"))\n",
    "    if(ch==1):\n",
    "        print(a+b)\n",
    "    elif(ch==2):\n",
    "        print(a-b)\n",
    "    elif(ch==3):\n",
    "        print(a*b)\n",
    "    elif(ch==4):\n",
    "        print(a/b)\n",
    "    else:\n",
    "        print(\"Exiting...\")\n",
    "        break"
   ]
  },
  {
   "cell_type": "code",
   "execution_count": 50,
   "id": "e7508d45",
   "metadata": {},
   "outputs": [
    {
     "name": "stdout",
     "output_type": "stream",
     "text": [
      "a Equal b: False\n",
      "a Greater than b: True\n",
      "a Less than b: False\n",
      "a Not Equal b: True\n"
     ]
    }
   ],
   "source": [
    "#Boolean Operations\n",
    "a=20\n",
    "b=15\n",
    "print(\"a Equal b:\",a==b)\n",
    "print(\"a Greater than b:\",a>b)\n",
    "print(\"a Less than b:\",a<b)\n",
    "print(\"a Not Equal b:\",a!=b)"
   ]
  },
  {
   "cell_type": "code",
   "execution_count": 66,
   "id": "80440634",
   "metadata": {},
   "outputs": [
    {
     "name": "stdout",
     "output_type": "stream",
     "text": [
      "Length: 12\n",
      "Slicing: lo\n",
      "Upper Case: HELLO WORLD!\n",
      "Lower Case: hello world!\n",
      "Split: ['Hello World!']\n",
      "Capitalize: Machine learning\n",
      "Centering:                  machine learning                 \n",
      "Justifying: machine learning              \n",
      "Concatenate: DataScience\n",
      "Comparison: False\n",
      "Numeric: False\n",
      "Character at position 8: r\n"
     ]
    }
   ],
   "source": [
    "#String Operation\n",
    "#Length\n",
    "a = \"Hello World!\"\n",
    "print(\"Length:\",(len(a)))\n",
    "\n",
    "#slicing\n",
    "print(\"Slicing:\",a[3:5])\n",
    "\n",
    "#UpperCase\n",
    "print(\"Upper Case:\",(a.upper()))\n",
    "\n",
    "#LowerCase\n",
    "print(\"Lower Case:\",(a.lower()))\n",
    "\n",
    "#split\n",
    "print(\"Split:\",(a.split(\",\")))\n",
    "\n",
    "#capitalize\n",
    "d=\"machine learning\"\n",
    "print(\"Capitalize:\",d.capitalize())\n",
    "\n",
    "#centering\n",
    "print(\"Centering:\",d.center(50))\n",
    "\n",
    "#justifying\n",
    "print(\"Justifying:\",d.ljust(30))\n",
    "\n",
    "#concatenate\n",
    "b=\"Data\"\n",
    "c=\"Science\"\n",
    "print(\"Concatenate:\",(b+c))\n",
    "\n",
    "#compare\n",
    "print(\"Comparison:\",(b==c))\n",
    "\n",
    "#numeric or not\n",
    "print(\"Numeric:\",(a.isnumeric()))\n",
    "\n",
    "#position\n",
    "print(\"Character at position 8:\",a[8])"
   ]
  },
  {
   "cell_type": "code",
   "execution_count": 53,
   "id": "dd56a374",
   "metadata": {},
   "outputs": [
    {
     "name": "stdout",
     "output_type": "stream",
     "text": [
      "List: ['Ram', 'Seetha', 'John', 'Antony', 'Reema']\n",
      "No.of Elements: 5\n",
      "Updated list: ['Ram', 'Seetha', 'John', 'Antony', 'Reema', 'Riya']\n",
      "Removed John: ['Ram', 'Seetha', 'Antony', 'Reema', 'Riya']\n",
      "Sorted list: ['Antony', 'Ram', 'Reema', 'Riya', 'Seetha']\n"
     ]
    }
   ],
   "source": [
    "#List Operation\n",
    "name=[\"Ram\",\"Seetha\",\"John\",\"Antony\",\"Reema\"]\n",
    "print(\"List:\",name)\n",
    "\n",
    "#Length\n",
    "print(\"No.of Elements:\",len(name))\n",
    "\n",
    "#append\n",
    "name.append(\"Riya\")\n",
    "print(\"Updated list:\",name)\n",
    "\n",
    "#remove\n",
    "name.remove(\"John\")\n",
    "print(\"Removed John:\",name)\n",
    "\n",
    "#sort\n",
    "name.sort(reverse = False)\n",
    "print(\"Sorted list:\",name)"
   ]
  },
  {
   "cell_type": "code",
   "execution_count": 59,
   "id": "f0266e3b",
   "metadata": {},
   "outputs": [
    {
     "name": "stdout",
     "output_type": "stream",
     "text": [
      "Dict: {'Pen': 10, 'Bag': 300, 'Pencil': 5}\n",
      "Number of items: 3\n",
      "Added an item: {'Pen': 10, 'Bag': 300, 'Pencil': 5, 'Book': 45}\n",
      "Updated Dict: {'Pen': 10, 'Bag': '250', 'Pencil': 5, 'Book': 45}\n",
      "Removed an item: {'Pen': 10, 'Bag': '250', 'Book': 45}\n"
     ]
    }
   ],
   "source": [
    "#dictionary\n",
    "dict={\"Pen\":10,\"Bag\":300,\"Pencil\":5}\n",
    "print(\"Dict:\",dict)\n",
    "\n",
    "#Length\n",
    "print(\"Number of items:\",len(dict))\n",
    "\n",
    "#adding item\n",
    "dict[\"Book\"]=45\n",
    "print(\"Added an item:\",dict)\n",
    "\n",
    "#update\n",
    "dict.update({\"Bag\": \"250\"})\n",
    "print(\"Updated Dict:\",dict)\n",
    "\n",
    "#remove\n",
    "dict.pop(\"Pencil\")\n",
    "print(\"Removed an item:\",dict)"
   ]
  },
  {
   "cell_type": "code",
   "execution_count": null,
   "id": "e35806d6",
   "metadata": {},
   "outputs": [],
   "source": []
  }
 ],
 "metadata": {
  "kernelspec": {
   "display_name": "Python 3 (ipykernel)",
   "language": "python",
   "name": "python3"
  },
  "language_info": {
   "codemirror_mode": {
    "name": "ipython",
    "version": 3
   },
   "file_extension": ".py",
   "mimetype": "text/x-python",
   "name": "python",
   "nbconvert_exporter": "python",
   "pygments_lexer": "ipython3",
   "version": "3.10.12"
  }
 },
 "nbformat": 4,
 "nbformat_minor": 5
}
